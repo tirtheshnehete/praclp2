{
 "cells": [
  {
   "cell_type": "code",
   "execution_count": 5,
   "id": "463787cf-9d8b-4f92-8069-eae12b31d33f",
   "metadata": {},
   "outputs": [
    {
     "name": "stdout",
     "output_type": "stream",
     "text": [
      "A\n",
      "B\n",
      "C\n",
      "D\n",
      "E\n"
     ]
    }
   ],
   "source": [
    "#BFS:\n",
    "graph = {\n",
    " 'A' : ['B','C', 'D'],\n",
    " 'B' : ['E'],\n",
    " 'C' : ['D', 'E'],\n",
    " 'D' : [],\n",
    " 'E' : []\n",
    "}\n",
    "visited = [] # List to keep track of visited nodes.\n",
    "queue = [] #Initialize a queue\n",
    "def bfs(visited, graph, node):\n",
    "    visited.append(node)\n",
    "    queue.append(node)\n",
    "    while queue:\n",
    "        s = queue.pop(0)\n",
    "        print (s)\n",
    "        for neighbour in graph[s]:\n",
    "            if neighbour not in visited:\n",
    "                visited.append(neighbour)\n",
    "                queue.append(neighbour)\n",
    "# Driver Code\n",
    "bfs(visited, graph, 'A')"
   ]
  },
  {
   "cell_type": "code",
   "execution_count": 6,
   "id": "83df0288-2b70-4773-be48-c8cae18d95ce",
   "metadata": {},
   "outputs": [
    {
     "name": "stdout",
     "output_type": "stream",
     "text": [
      "Following is the Path using Depth-First Search\n",
      "A\n",
      "B\n",
      "E\n",
      "C\n",
      "D\n"
     ]
    }
   ],
   "source": [
    "#DFS:\n",
    "graph = {\n",
    " 'A' : ['B','C', 'D'],\n",
    " 'B' : ['E'],\n",
    " 'C' : ['D', 'E'],\n",
    " 'D' : [],\n",
    " 'E' : []\n",
    "}\n",
    "visited = set()\n",
    "def dfs(visited, graph, node):\n",
    "    if node not in visited:\n",
    "        print(node)\n",
    "        visited.add(node)\n",
    "        for neighbour in graph[node]:\n",
    "            dfs(visited, graph, neighbour)\n",
    "           \n",
    "print(\"Following is the Path using Depth-First Search\")\n",
    "dfs(visited, graph, 'A')"
   ]
  },
  {
   "cell_type": "code",
   "execution_count": null,
   "id": "33aec385-62c7-4e4f-82a9-0d89c9ab7381",
   "metadata": {},
   "outputs": [],
   "source": []
  }
 ],
 "metadata": {
  "kernelspec": {
   "display_name": "Python 3 (ipykernel)",
   "language": "python",
   "name": "python3"
  },
  "language_info": {
   "codemirror_mode": {
    "name": "ipython",
    "version": 3
   },
   "file_extension": ".py",
   "mimetype": "text/x-python",
   "name": "python",
   "nbconvert_exporter": "python",
   "pygments_lexer": "ipython3",
   "version": "3.10.4"
  }
 },
 "nbformat": 4,
 "nbformat_minor": 5
}
