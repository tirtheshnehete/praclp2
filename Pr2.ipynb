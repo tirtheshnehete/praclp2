{
 "cells": [
  {
   "cell_type": "code",
   "execution_count": 1,
   "id": "cc416479-5bb5-449f-b392-88c5cdd06975",
   "metadata": {},
   "outputs": [],
   "source": [
    "def print_board(elements):\n",
    "    for i in range(9):\n",
    "        if i % 3 == 0:\n",
    "            print()\n",
    "        if elements[i] == -1:\n",
    "            print(\"_\", end=\" \")\n",
    "        else:\n",
    "            print(elements[i], end=\" \")\n",
    "    print()"
   ]
  },
  {
   "cell_type": "code",
   "execution_count": 2,
   "id": "db406df0-9d24-4bc1-97f8-cd8a5e42caa1",
   "metadata": {},
   "outputs": [],
   "source": [
    "def solvable(start):\n",
    "    inv = 0\n",
    "    for i in range(9):\n",
    "        if start[i] == -1:\n",
    "            continue\n",
    "        for j in range(i + 1, 9):\n",
    "            if start[j] == -1:\n",
    "                continue\n",
    "            if start[i] > start[j]:\n",
    "                inv += 1\n",
    "    return inv % 2 == 0"
   ]
  },
  {
   "cell_type": "code",
   "execution_count": 3,
   "id": "e8f275fc-0411-4e48-aba1-8e64cfd59062",
   "metadata": {},
   "outputs": [],
   "source": [
    "def heuristic(start, goal):\n",
    "    h = 0\n",
    "    for i in range(9):\n",
    "        if start[i] != -1:\n",
    "            current_row, current_col = i // 3, i % 3\n",
    "            goal_index = goal.index(start[i])\n",
    "            goal_row, goal_col = goal_index // 3, goal_index % 3\n",
    "            h += abs(current_row - goal_row) + abs(current_col - goal_col)\n",
    "    return h"
   ]
  },
  {
   "cell_type": "code",
   "execution_count": 4,
   "id": "6c327722-2012-4502-96d7-a22776054bbb",
   "metadata": {},
   "outputs": [],
   "source": [
    "def moveleft(s, p):\n",
    "    s[p], s[p - 1] = s[p - 1], s[p]\n",
    "\n",
    "def moveright(s, p):\n",
    "    s[p], s[p + 1] = s[p + 1], s[p]\n",
    "\n",
    "def moveup(s, p):\n",
    "    s[p], s[p - 3] = s[p - 3], s[p]\n",
    "\n",
    "def movedown(s, p):\n",
    "    s[p], s[p + 3] = s[p + 3], s[p]"
   ]
  },
  {
   "cell_type": "code",
   "execution_count": 5,
   "id": "3502d6c7-a60d-499a-b688-aacf67a0fce2",
   "metadata": {},
   "outputs": [],
   "source": [
    "def movetile(start, goal, g):\n",
    "    empty = start.index(-1)\n",
    "    row, col = empty // 3, empty % 3\n",
    "    t1, t2, t3, t4 = start[:], start[:], start[:], start[:]\n",
    "    f1, f2, f3, f4 = 100, 100, 100, 100\n",
    "    \n",
    "    if col - 1 >= 0:\n",
    "        moveleft(t1, empty)\n",
    "        f1 = heuristic(t1, goal) + g\n",
    "    if col + 1 < 3:\n",
    "        moveright(t2, empty)\n",
    "        f2 = heuristic(t2, goal) + g\n",
    "    if row + 1 < 3:\n",
    "        movedown(t3, empty)\n",
    "        f3 = heuristic(t3, goal) + g\n",
    "    if row - 1 >= 0:\n",
    "        moveup(t4, empty)\n",
    "        f4 = heuristic(t4, goal) + g\n",
    "        \n",
    "    min_h = min(f1, f2, f3, f4)\n",
    "    if f1 == min_h:\n",
    "        moveleft(start, empty)\n",
    "    elif f2 == min_h:\n",
    "        moveright(start, empty)\n",
    "    elif f3 == min_h:\n",
    "        movedown(start, empty)\n",
    "    elif f4 == min_h:\n",
    "        moveup(start, empty)\n",
    "    \n",
    "    return min_h - g"
   ]
  },
  {
   "cell_type": "code",
   "execution_count": 6,
   "id": "80d80cee-8157-483b-a941-eed0a87b3e61",
   "metadata": {},
   "outputs": [],
   "source": [
    "def solveEight(start, goal):\n",
    "    g = 0\n",
    "    while True:\n",
    "        print_board(start)\n",
    "        f = heuristic(start, goal)\n",
    "        print(f\"f(n): {f}\")\n",
    "        if f == 0:\n",
    "            print(\"Solved!\")\n",
    "            break\n",
    "        g += movetile(start, goal, g)"
   ]
  },
  {
   "cell_type": "code",
   "execution_count": 7,
   "id": "200d238a-f91c-4881-bc11-a4126814a2a8",
   "metadata": {},
   "outputs": [
    {
     "data": {
      "text/plain": [
       "'print(\"Enter the start state: \")\\nfor i in range (9):\\n    start.append(int(input()))\\nprint(\"Enter the goal state: \")\\nfor i in range (9):\\n    goal.append(int(input()))\\nprint(\"-----------------------------------------------\")'"
      ]
     },
     "execution_count": 7,
     "metadata": {},
     "output_type": "execute_result"
    }
   ],
   "source": [
    "start = [1, 2, 3, -1, 4, 6, 7, 5, 8]\n",
    "goal = [1, 2, 3, 4, 5, 6, 7, 8, -1]\n",
    "'''print(\"Enter the start state: \")\n",
    "for i in range (9):\n",
    "    start.append(int(input()))\n",
    "print(\"Enter the goal state: \")\n",
    "for i in range (9):\n",
    "    goal.append(int(input()))\n",
    "print(\"-----------------------------------------------\")'''"
   ]
  },
  {
   "cell_type": "code",
   "execution_count": 8,
   "id": "f8d6430d-518d-4a5c-909d-2aab32db4d37",
   "metadata": {},
   "outputs": [
    {
     "name": "stdout",
     "output_type": "stream",
     "text": [
      "Start state: \n",
      "\n",
      "1 2 3 \n",
      "_ 4 6 \n",
      "7 5 8 \n",
      "-----------------------------------------------\n",
      "\n",
      "1 2 3 \n",
      "_ 4 6 \n",
      "7 5 8 \n",
      "f(n): 3\n",
      "\n",
      "1 2 3 \n",
      "4 _ 6 \n",
      "7 5 8 \n",
      "f(n): 2\n",
      "\n",
      "1 2 3 \n",
      "4 5 6 \n",
      "7 _ 8 \n",
      "f(n): 1\n",
      "\n",
      "1 2 3 \n",
      "4 5 6 \n",
      "7 8 _ \n",
      "f(n): 0\n",
      "Solved!\n"
     ]
    }
   ],
   "source": [
    "print(\"Start state: \")\n",
    "print_board(start)\n",
    "print(\"-----------------------------------------------\")\n",
    "if solvable(start):\n",
    "    solveEight(start, goal)\n",
    "else:\n",
    "    print(\"Not possible to solve\")"
   ]
  }
 ],
 "metadata": {
  "kernelspec": {
   "display_name": "Python 3 (ipykernel)",
   "language": "python",
   "name": "python3"
  },
  "language_info": {
   "codemirror_mode": {
    "name": "ipython",
    "version": 3
   },
   "file_extension": ".py",
   "mimetype": "text/x-python",
   "name": "python",
   "nbconvert_exporter": "python",
   "pygments_lexer": "ipython3",
   "version": "3.10.4"
  }
 },
 "nbformat": 4,
 "nbformat_minor": 5
}
