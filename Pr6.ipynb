{
 "cells": [
  {
   "cell_type": "code",
   "execution_count": 2,
   "id": "a27ad821-dccf-4ebf-8f89-d570e405f3b2",
   "metadata": {},
   "outputs": [
    {
     "name": "stdin",
     "output_type": "stream",
     "text": [
      "What's the problem? Type 'exit' to quit.  can't log in\n"
     ]
    },
    {
     "name": "stdout",
     "output_type": "stream",
     "text": [
      "Make sure you're using the correct username and password\n"
     ]
    }
   ],
   "source": [
    "problem_dict = {\n",
    " \"printer not working\": \"Check that it's turned on and connected to the network\",\n",
    " \"can't log in\": \"Make sure you're using the correct username and password\",\n",
    " \"software not installing\": \"Check that your computer meets the system requirements\",\n",
    " \"internet connection not working\": \"Restart your modem or router\",\n",
    " \"email not sending\": \"Check that you're using the correct email server settings\"\n",
    "}\n",
    "\n",
    "def handle_request(user_input):\n",
    "    if user_input == \"exit\":\n",
    "        return \"Goodbye!\"\n",
    "    elif user_input in problem_dict:\n",
    "        return problem_dict[user_input]\n",
    "    else:\n",
    "        return \"I'm sorry, I don't know how to help with that problem.\"\n",
    "\n",
    "user_input = input(\"What's the problem? Type 'exit' to quit. \")\n",
    "response = handle_request(user_input.lower())\n",
    "print(response)"
   ]
  },
  {
   "cell_type": "code",
   "execution_count": null,
   "id": "f087e0cf-c7ea-472f-ba58-20390983c0f2",
   "metadata": {},
   "outputs": [],
   "source": []
  }
 ],
 "metadata": {
  "kernelspec": {
   "display_name": "Python 3 (ipykernel)",
   "language": "python",
   "name": "python3"
  },
  "language_info": {
   "codemirror_mode": {
    "name": "ipython",
    "version": 3
   },
   "file_extension": ".py",
   "mimetype": "text/x-python",
   "name": "python",
   "nbconvert_exporter": "python",
   "pygments_lexer": "ipython3",
   "version": "3.10.4"
  }
 },
 "nbformat": 4,
 "nbformat_minor": 5
}
