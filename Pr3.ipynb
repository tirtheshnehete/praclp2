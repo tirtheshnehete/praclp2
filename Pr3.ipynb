{
 "cells": [
  {
   "cell_type": "code",
   "execution_count": 2,
   "id": "f28898ec-19fb-41a9-a6dd-ab4208878fe8",
   "metadata": {},
   "outputs": [
    {
     "name": "stdin",
     "output_type": "stream",
     "text": [
      "How many elements do you want to sort?  2\n"
     ]
    }
   ],
   "source": [
    "x = []\n",
    "n = int(input(\"How many elements do you want to sort? \"))"
   ]
  },
  {
   "cell_type": "code",
   "execution_count": 3,
   "id": "6cbde7be-4192-4300-9708-2be0af87a746",
   "metadata": {},
   "outputs": [
    {
     "name": "stdin",
     "output_type": "stream",
     "text": [
      "Enter 48\n",
      "Enter 68\n"
     ]
    },
    {
     "name": "stdout",
     "output_type": "stream",
     "text": [
      "Unsorted elements:  [48, 68]\n"
     ]
    }
   ],
   "source": [
    "for i in range(n):\n",
    "    a = int(input(\"Enter\"))\n",
    "    x.append(a)\n",
    "print(\"Unsorted elements: \", x)"
   ]
  },
  {
   "cell_type": "code",
   "execution_count": 4,
   "id": "1c7abb04-9df4-45fc-9434-629cb8b74043",
   "metadata": {},
   "outputs": [
    {
     "name": "stdout",
     "output_type": "stream",
     "text": [
      "Sorted elements:  [48, 68]\n"
     ]
    }
   ],
   "source": [
    "for i in range(0, n-1):\n",
    "    for j in range(i+1, n):\n",
    "        if x[i] > x[j]:\n",
    "            x[i], x[j] = x[j], x[i]\n",
    "print(\"Sorted elements: \", x)"
   ]
  },
  {
   "cell_type": "code",
   "execution_count": null,
   "id": "4bd48323-9ce7-4f0f-a290-9d2e5caf9a00",
   "metadata": {},
   "outputs": [],
   "source": []
  }
 ],
 "metadata": {
  "kernelspec": {
   "display_name": "Python 3 (ipykernel)",
   "language": "python",
   "name": "python3"
  },
  "language_info": {
   "codemirror_mode": {
    "name": "ipython",
    "version": 3
   },
   "file_extension": ".py",
   "mimetype": "text/x-python",
   "name": "python",
   "nbconvert_exporter": "python",
   "pygments_lexer": "ipython3",
   "version": "3.10.4"
  }
 },
 "nbformat": 4,
 "nbformat_minor": 5
}
