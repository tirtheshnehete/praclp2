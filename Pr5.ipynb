{
 "cells": [
  {
   "cell_type": "code",
   "execution_count": 1,
   "id": "96ff771b-40b0-4636-9ca1-6bc80dfd54f6",
   "metadata": {},
   "outputs": [],
   "source": [
    "def greet(bot_name, birth_year):\n",
    "    print(f\"Hello, my name is {bot_name}.\\nI was created in {birth_year}.\")\n",
    "    #print(\"Hello, my name is {0}.\\nI was created in {1}.\" .format(bot_name, birth_year))"
   ]
  },
  {
   "cell_type": "code",
   "execution_count": 10,
   "id": "63ec85dc-4bfb-4289-96c1-69e76708bc64",
   "metadata": {},
   "outputs": [],
   "source": [
    "def remind_name():\n",
    "    name = input(\"Please remind me of your name: \")\n",
    "    print(f\"What a great name you have {name}\")"
   ]
  },
  {
   "cell_type": "code",
   "execution_count": 11,
   "id": "546ab3db-c95b-41a7-ad9c-9cc9671a72e5",
   "metadata": {},
   "outputs": [],
   "source": [
    "def guess_age():\n",
    "    print(\"Let me guess your age: \")\n",
    "    print(\"Enter remainders of dividing your age by 3, 5 and 7: \")\n",
    "    rem3 = int(input())\n",
    "    rem5 = int(input())\n",
    "    rem7 = int(input())\n",
    "    age = (rem3 * 70 + rem5 * 21 + rem7 * 15) % 105\n",
    "    print(f\"Your age is {age}. That's a good time to start programming.\")"
   ]
  },
  {
   "cell_type": "code",
   "execution_count": 12,
   "id": "11ebb03a-2dba-4869-950c-a9e7fa8533c8",
   "metadata": {},
   "outputs": [],
   "source": [
    "def count():\n",
    "    print(\"Now I will prove to you that I can coun to any number that you want: \")\n",
    "    n = int(input())\n",
    "    for i in range(0, n+1):\n",
    "        print(i)"
   ]
  },
  {
   "cell_type": "code",
   "execution_count": 13,
   "id": "46e25789-e29a-4fc8-87c4-d1e05cc16d41",
   "metadata": {},
   "outputs": [],
   "source": [
    "def test():\n",
    "    print(\"Let's test your programming knowledge.\")\n",
    "    print(\"Why do we use methods?\")\n",
    "    print(\"1. To repeat a statement multiple times.\")\n",
    "    print(\"2. To decompose a program into several small subroutines.\")\n",
    "    print(\"3. To determine the execution time of a program.\")\n",
    "    print(\"4. To interrupt the execution of a program.\")\n",
    "    answer = 2\n",
    "    guess = int(input())\n",
    "    while guess != answer:\n",
    "        print(\"Please, try again.\")\n",
    "        guess = int(input())\n",
    "    print('Completed, have a nice day!')\n",
    "    print('.................................')"
   ]
  },
  {
   "cell_type": "code",
   "execution_count": 14,
   "id": "6dbdfe54-2071-4930-b781-88bb99ea1e7e",
   "metadata": {},
   "outputs": [],
   "source": [
    "def end():\n",
    "    print('Congratulations, have a nice day!')\n",
    "    print('.................................')\n",
    "    input()"
   ]
  },
  {
   "cell_type": "code",
   "execution_count": 15,
   "id": "93608ac0-97b0-411f-90d4-d091841a6505",
   "metadata": {},
   "outputs": [
    {
     "name": "stdout",
     "output_type": "stream",
     "text": [
      "Hello, my name is TE-Chatbot.\n",
      "I was created in 2022.\n"
     ]
    }
   ],
   "source": [
    "greet('TE-Chatbot', '2022') "
   ]
  },
  {
   "cell_type": "code",
   "execution_count": 16,
   "id": "8cc331b9-d068-4f75-9a85-c54a46753a85",
   "metadata": {},
   "outputs": [
    {
     "name": "stdin",
     "output_type": "stream",
     "text": [
      "Please remind me of your name:  f\n"
     ]
    },
    {
     "name": "stdout",
     "output_type": "stream",
     "text": [
      "What a great name you have f\n"
     ]
    }
   ],
   "source": [
    "remind_name()"
   ]
  },
  {
   "cell_type": "code",
   "execution_count": 19,
   "id": "2bbbaf7c-8d9f-4030-9a57-1b31f7eb2e1a",
   "metadata": {},
   "outputs": [
    {
     "name": "stdout",
     "output_type": "stream",
     "text": [
      "Let me guess your age: \n",
      "Enter remainders of dividing your age by 3, 5 and 7: \n"
     ]
    },
    {
     "name": "stdin",
     "output_type": "stream",
     "text": [
      " 0\n",
      " 1\n",
      " 0\n"
     ]
    },
    {
     "name": "stdout",
     "output_type": "stream",
     "text": [
      "Your age is 21. That's a good time to start programming.\n"
     ]
    }
   ],
   "source": [
    "guess_age()"
   ]
  },
  {
   "cell_type": "code",
   "execution_count": 20,
   "id": "2e88f93c-65d4-4b24-8321-8aa08a7cbeae",
   "metadata": {},
   "outputs": [
    {
     "name": "stdout",
     "output_type": "stream",
     "text": [
      "Now I will prove to you that I can coun to any number that you want: \n"
     ]
    },
    {
     "name": "stdin",
     "output_type": "stream",
     "text": [
      " 10\n"
     ]
    },
    {
     "name": "stdout",
     "output_type": "stream",
     "text": [
      "0\n",
      "1\n",
      "2\n",
      "3\n",
      "4\n",
      "5\n",
      "6\n",
      "7\n",
      "8\n",
      "9\n",
      "10\n"
     ]
    }
   ],
   "source": [
    "count()"
   ]
  },
  {
   "cell_type": "code",
   "execution_count": 22,
   "id": "8ab47285-f253-4ba8-871c-d90dc82a040f",
   "metadata": {},
   "outputs": [
    {
     "name": "stdout",
     "output_type": "stream",
     "text": [
      "Let's test your programming knowledge.\n",
      "Why do we use methods?\n",
      "1. To repeat a statement multiple times.\n",
      "2. To decompose a program into several small subroutines.\n",
      "3. To determine the execution time of a program.\n",
      "4. To interrupt the execution of a program.\n"
     ]
    },
    {
     "name": "stdin",
     "output_type": "stream",
     "text": [
      " 2\n"
     ]
    },
    {
     "name": "stdout",
     "output_type": "stream",
     "text": [
      "Completed, have a nice day!\n",
      ".................................\n"
     ]
    }
   ],
   "source": [
    "test()"
   ]
  },
  {
   "cell_type": "code",
   "execution_count": 24,
   "id": "2331b075-2de6-4d78-9f0b-7972fdc661b0",
   "metadata": {},
   "outputs": [
    {
     "name": "stdout",
     "output_type": "stream",
     "text": [
      "Congratulations, have a nice day!\n",
      ".................................\n"
     ]
    },
    {
     "name": "stdin",
     "output_type": "stream",
     "text": [
      " thanku\n"
     ]
    }
   ],
   "source": [
    "end()"
   ]
  },
  {
   "cell_type": "code",
   "execution_count": null,
   "id": "d75aed2d-263c-4f29-95dd-4002c0df5546",
   "metadata": {},
   "outputs": [],
   "source": []
  }
 ],
 "metadata": {
  "kernelspec": {
   "display_name": "Python 3 (ipykernel)",
   "language": "python",
   "name": "python3"
  },
  "language_info": {
   "codemirror_mode": {
    "name": "ipython",
    "version": 3
   },
   "file_extension": ".py",
   "mimetype": "text/x-python",
   "name": "python",
   "nbconvert_exporter": "python",
   "pygments_lexer": "ipython3",
   "version": "3.10.4"
  }
 },
 "nbformat": 4,
 "nbformat_minor": 5
}
