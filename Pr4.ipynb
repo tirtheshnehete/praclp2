{
 "cells": [
  {
   "cell_type": "code",
   "execution_count": 10,
   "id": "db10e54d-478b-4ef7-aec6-d7defbcc30e1",
   "metadata": {},
   "outputs": [
    {
     "name": "stdin",
     "output_type": "stream",
     "text": [
      "Enter the value for n\n",
      " 4\n"
     ]
    },
    {
     "name": "stdout",
     "output_type": "stream",
     "text": [
      "[0, 0, 0, 0]\n",
      "[0, 0, 0, 0]\n",
      "[0, 0, 0, 0]\n",
      "[0, 0, 0, 0]\n"
     ]
    }
   ],
   "source": [
    "n = int(input(\"Enter the value for n\\n\"))\n",
    "if n <= 0:\n",
    "    print(\"Please enter a positive integer for 'n'.\")\n",
    "    exit(0)\n",
    "board = [[0 for _ in range(n)] for _ in range(n)]\n",
    "for row in board:\n",
    "    print(row)"
   ]
  },
  {
   "cell_type": "code",
   "execution_count": 11,
   "id": "bf96492c-9a79-4309-a37e-07be8dee823d",
   "metadata": {},
   "outputs": [],
   "source": [
    "def check_column(board, row, column):\n",
    "    for i in range(row, -1, -1):\n",
    "        if board[i][column] == 1:\n",
    "            return False\n",
    "    return True"
   ]
  },
  {
   "cell_type": "code",
   "execution_count": 12,
   "id": "9296e6c5-9436-4b04-af75-92262a1a151f",
   "metadata": {},
   "outputs": [],
   "source": [
    "def check_diagonal(board, row, column):\n",
    "    for i, j, in zip(range(row, -1, -1), range(column, -1, -1)):\n",
    "        if board[i][j] == 1:\n",
    "            return False\n",
    "    for i, j, in zip(range(row, -1, -1), range(column, n)):\n",
    "        if board[i][j] == 1:\n",
    "            return False\n",
    "    return True"
   ]
  },
  {
   "cell_type": "code",
   "execution_count": 13,
   "id": "c640a3b3-734e-4c81-8346-8c88055a7615",
   "metadata": {},
   "outputs": [],
   "source": [
    "def nqn(board, row):\n",
    "    if row == n:\n",
    "        return True\n",
    "    for i in range(n):\n",
    "        if (check_column(board, row, i) == True and check_diagonal(board, row, i) == True):\n",
    "            board[row][i] = 1\n",
    "\n",
    "            if nqn(board, row + 1):\n",
    "                return True\n",
    "            board[row][i] = 0\n",
    "    return False"
   ]
  },
  {
   "cell_type": "code",
   "execution_count": 14,
   "id": "92339871-8cee-490d-8d67-edfc55b398b5",
   "metadata": {},
   "outputs": [
    {
     "name": "stdout",
     "output_type": "stream",
     "text": [
      "[0, 1, 0, 0]\n",
      "[0, 0, 0, 1]\n",
      "[1, 0, 0, 0]\n",
      "[0, 0, 1, 0]\n"
     ]
    }
   ],
   "source": [
    "if nqn(board, 0):\n",
    "    for row in board:\n",
    "        print(row)\n",
    "else:\n",
    "    print(f\"No solution exists for {n}-queens problem.\")"
   ]
  },
  {
   "cell_type": "code",
   "execution_count": null,
   "id": "76fb0fef-eda4-4eb6-bf76-161c6902fe58",
   "metadata": {},
   "outputs": [],
   "source": []
  }
 ],
 "metadata": {
  "kernelspec": {
   "display_name": "Python 3 (ipykernel)",
   "language": "python",
   "name": "python3"
  },
  "language_info": {
   "codemirror_mode": {
    "name": "ipython",
    "version": 3
   },
   "file_extension": ".py",
   "mimetype": "text/x-python",
   "name": "python",
   "nbconvert_exporter": "python",
   "pygments_lexer": "ipython3",
   "version": "3.10.4"
  }
 },
 "nbformat": 4,
 "nbformat_minor": 5
}
